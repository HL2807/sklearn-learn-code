{
 "cells": [
  {
   "cell_type": "code",
   "execution_count": 9,
   "metadata": {},
   "outputs": [],
   "source": [
    "from sklearn import svm\n",
    "import numpy as np\n",
    "import matplotlib.pyplot as plt\n",
    "import matplotlib\n",
    "import sklearn\n",
    "from sklearn.model_selection import train_test_split  "
   ]
  },
  {
   "cell_type": "code",
   "execution_count": 10,
   "metadata": {},
   "outputs": [],
   "source": [
    "#define converts(字典)  \n",
    "def Iris_label(s):  \n",
    "    it={b'Iris-setosa':0, b'Iris-versicolor':1, b'Iris-virginica':2 }  \n",
    "    return it[s]  \n",
    "#定义的转换函数为：将类别Iris-setosa，Iris-versicolor，Iris-virginica映射成0,1,2"
   ]
  },
  {
   "cell_type": "code",
   "execution_count": 11,
   "metadata": {},
   "outputs": [],
   "source": [
    "#1.读取数据集\n",
    "##用loadtxt函数读取函数，其声明如下：\n",
    "path='C:/Users/米/Iris.data'\n",
    "data=np.loadtxt(path,dtype=float,delimiter=',',converters={4:Iris_label})\n",
    "#converters={4:Iris_label}中“4”指的是第5列：将第5列的str转化为label(number)\n",
    "#常用的参数:\n",
    "#fname:文件路径\n",
    "#dtype：样本的数据类型\n",
    "#delimiter：分隔符\n",
    "#converters：将数据列与转换函数进行映射的字典。\n",
    "#例 converters={4:Iris_label}含义是将第5列的数据对应转换函数进行转换。\n",
    "#usecols：选取数据的列"
   ]
  },
  {
   "cell_type": "code",
   "execution_count": 12,
   "metadata": {},
   "outputs": [],
   "source": [
    "#2.划分数据与标签  \n",
    "x,y=np.split(data,indices_or_sections=(4,),axis=1) #x为数据，y为标签  \n",
    "x=x[:,0:2]  #为便于后边画图显示，只选取前两维度。如果不画图，可以选前四列x[:,0:4]\n",
    "train_data,test_data,train_label,test_label =train_test_split(x,y, random_state=1, train_size=0.6,test_size=0.4) #sklearn.model_selection.  \n",
    "#print(train_data.shape)  \n",
    "#1、split（数据分割位置，轴=1（水平分割） 0（垂直分割））\n",
    "#2、sklearn.model_selection.train_test_split随机划分训练集与测试集\n",
    "#train_test_split(train_data,train_label,test_size=数字，random_state=0）\n",
    "#参数解释：\n",
    "#train_data:所要划分的样本特征集\n",
    "#train_label:所要划分的样本类别\n",
    "#test_size：样本占比，如果是整数的话就是样本的数量。\n",
    "#注意：\n",
    "    #test_size：测试样本占比。默认情况下，该值设置为0.25。默认值将在版本.0.21中更改。只有train_size没有指定时，\n",
    "            #它将保持0.25，否则它将补充指定的train_size，例如train_size=0.6，则test_size默认为0.4\n",
    "    #train_size：训练样本占比\n",
    "    #random_state：是随机数的种子\n",
    "    \n",
    "    #随机数种子：其实就是该随机数的编号，在需要重复试验的时候，保证得到一组一样的随机数。比如你名称都填1，\n",
    "    #其它参数一样的情况下你得到的随机数是一样的 。但填0或不填，每次都会不一样。随机数的参数取决于种子，随机数\n",
    "    #和种子之间的关系从以下两个规则：种子不同，产生不同的随机数；种子相同，即使实例不同也产生相同的随机数\n",
    "    \n"
   ]
  },
  {
   "cell_type": "code",
   "execution_count": 13,
   "metadata": {},
   "outputs": [
    {
     "data": {
      "text/plain": [
       "SVC(C=2, decision_function_shape='ovo', gamma=10)"
      ]
     },
     "execution_count": 13,
     "metadata": {},
     "output_type": "execute_result"
    }
   ],
   "source": [
    "#3.训练svm分类器  \n",
    "classifier=svm.SVC(C=2,kernel='rbf',gamma=10,decision_function_shape='ovo') # ovr:一对多策略  \n",
    "classifier.fit(train_data,train_label.ravel()) #ravel函数在降维时默认是行序优先  \n",
    "\n",
    "#kernel=‘linear’时，为线性核，C越大分类效果越好，但有可能会过拟合（defaul C=1）\n",
    "#kernel=‘rbf’时（default），为高斯核，gamma值越小，分类界面越连续；gamma值越大，分类界面越散，分类效果越好，但有可能过拟合\n",
    "#decision_function_shape='ovr'时，为one v rest （一对多），即一个类别与其他类别进行划分\n",
    "#decision_function_shape='ovo'时，为one v one （一对一），即将类别两两之间进行划分，用二分类的方法模拟多分类的结果"
   ]
  },
  {
   "cell_type": "code",
   "execution_count": 14,
   "metadata": {},
   "outputs": [
    {
     "name": "stdout",
     "output_type": "stream",
     "text": [
      "训练集： 0.8555555555555555\n",
      "测试集： 0.7\n"
     ]
    }
   ],
   "source": [
    "#4.计算svc分类器的准确率  \n",
    "print(\"训练集：\",classifier.score(train_data,train_label))  \n",
    "print(\"测试集：\",classifier.score(test_data,test_label))"
   ]
  },
  {
   "cell_type": "code",
   "execution_count": 15,
   "metadata": {},
   "outputs": [
    {
     "name": "stdout",
     "output_type": "stream",
     "text": [
      "训练集： 0.8555555555555555\n",
      "测试集： 0.7\n"
     ]
    }
   ],
   "source": [
    "#另一种计算准确率的方法：\n",
    "#也可直接调用accuracy_score方法计算准确率  \n",
    "from sklearn.metrics import accuracy_score  \n",
    "tra_label=classifier.predict(train_data) #训练集的预测标签  \n",
    "tes_label=classifier.predict(test_data) #测试集的预测标签  \n",
    "print(\"训练集：\", accuracy_score(train_label,tra_label) )  \n",
    "print(\"测试集：\", accuracy_score(test_label,tes_label) )  "
   ]
  },
  {
   "cell_type": "code",
   "execution_count": 16,
   "metadata": {},
   "outputs": [
    {
     "name": "stdout",
     "output_type": "stream",
     "text": [
      "train_decision_function:\n",
      " [[ 1.00809313  1.01540937  0.151101  ]\n",
      " [-1.00777232 -1.00008021  0.63444159]\n",
      " [-0.99416388 -1.06070485 -0.681607  ]\n",
      " [ 1.0000563   1.00031087  0.05426675]\n",
      " [ 1.01709573  1.02782828  0.14377175]\n",
      " [-0.94393468 -1.02064785 -1.00008844]\n",
      " [ 0.99963476  1.00001849  0.15117146]\n",
      " [-0.96836014 -0.99980535  0.58258857]\n",
      " [-0.57544729 -1.05719931 -1.38921374]\n",
      " [-0.99957828 -1.07645757 -0.44947688]\n",
      " [-1.06076059 -1.12561405  1.00935269]\n",
      " [-0.61824976 -1.00025184 -0.99988863]\n",
      " [-1.04911984 -1.01738974  0.82720369]\n",
      " [ 1.0004868   0.99973226  0.15150631]\n",
      " [-0.99959974 -0.27106766  1.00008043]\n",
      " [-1.00037028 -1.0072383  -0.79454   ]\n",
      " [-0.94393468 -1.02064785 -1.00008844]\n",
      " [-1.16901646 -0.68521942  0.99969349]\n",
      " [-0.36188214 -1.05474156 -1.22681095]\n",
      " [-0.99998921 -0.7292288   1.00000149]\n",
      " [ 0.9997492   1.00028017  0.16527647]\n",
      " [ 1.10037424  1.1294864   0.11662767]\n",
      " [ 0.99999492  1.0000862   0.15138041]\n",
      " [-0.61824976 -1.00025184 -0.99988863]\n",
      " [ 1.08355223  1.08507103  0.1424095 ]\n",
      " [-1.00009316 -1.08602786  1.00043467]\n",
      " [-0.93936698 -0.99997526 -0.99997348]\n",
      " [-1.13577007 -1.0002233   0.99974319]\n",
      " [ 1.16023739  1.1246827   0.16502081]\n",
      " [ 1.00115904  0.99996486  0.17242897]\n",
      " [-0.99972181 -1.17249695  0.99998702]\n",
      " [ 1.10037424  1.1294864   0.11662767]\n",
      " [-0.1027307  -0.9998778  -0.99961275]\n",
      " [-0.99984973 -1.01384434  0.41965646]\n",
      " [-0.06853344 -1.00017439 -1.00002848]\n",
      " [-1.10220778 -0.99983948 -0.09742273]\n",
      " [-1.00043397 -0.32121581  0.99961883]\n",
      " [-0.30242606 -1.00037937 -0.99997358]\n",
      " [-0.15705833 -0.99949477 -0.99948473]\n",
      " [-1.0325418  -0.84098366  0.99753354]\n",
      " [ 1.00006765  0.9996837   0.1513724 ]\n",
      " [-0.99972181 -1.17249695  0.99998702]\n",
      " [ 1.00004815  0.9997917   0.27413953]\n",
      " [-1.00027933 -0.57947682  0.99973839]\n",
      " [-1.12449549 -0.89214022  0.99971899]\n",
      " [ 1.00037714  0.99965076  0.15431726]\n",
      " [-1.00008464 -0.60756094  0.99997514]\n",
      " [ 0.99972206  1.00001549  0.15263062]\n",
      " [ 1.00809313  1.01540937  0.151101  ]\n",
      " [-0.23025489 -1.00007667 -1.21246391]\n",
      " [-0.98832135 -0.9994803   0.8930315 ]\n",
      " [-0.96691418 -0.99979768  0.00622326]\n",
      " [ 1.00643013  1.0143149   0.15615458]\n",
      " [ 1.02324897  1.02308352  0.15186157]\n",
      " [-1.00026853 -0.70701175  0.86866116]\n",
      " [ 1.02911302  1.03463018  0.13528244]\n",
      " [-0.99972181 -1.17249695  0.99998702]\n",
      " [ 1.06559064  1.09136031  0.11662815]\n",
      " [-0.94393468 -1.02064785 -1.00008844]\n",
      " [-0.81915106 -0.99993058  0.10237022]\n",
      " [ 1.00031145  0.99963951  0.14669966]\n",
      " [-0.52223623 -1.0292103  -1.25294459]\n",
      " [ 0.99968051  0.99998466  0.14838984]\n",
      " [-1.00003734 -0.59416672  1.11153323]\n",
      " [ 0.99975504  1.00039635  0.13179384]\n",
      " [-1.00027933 -0.57947682  0.99973839]\n",
      " [-0.99956137 -0.12062209  0.9996007 ]\n",
      " [ 1.06955081  1.05438707  0.15587295]\n",
      " [ 1.04203318  1.0392508   0.04863838]\n",
      " [-1.00008639 -0.88930836  0.5688138 ]\n",
      " [ 0.99963475  0.99960027  0.1513726 ]\n",
      " [-1.13577007 -1.0002233   0.99974319]\n",
      " [-1.01101008 -1.0367391   0.93069616]\n",
      " [ 1.00037714  0.99965076  0.15431726]\n",
      " [-0.99957828 -1.07645757 -0.44947688]\n",
      " [-1.13744373 -0.99922893  1.09396676]\n",
      " [-1.00320448 -0.2113903   1.11768961]\n",
      " [-0.9999184  -0.81463336  0.97825046]\n",
      " [-0.99972181 -1.17249695  0.99998702]\n",
      " [ 0.99996972  1.00007109  0.31898531]\n",
      " [ 1.00026771  0.99985888  0.07423981]\n",
      " [-1.02384518 -0.99964079  0.32734651]\n",
      " [-1.02258131 -1.07257636  0.92788042]\n",
      " [-0.49743583 -0.99998153 -0.68885053]\n",
      " [-1.00050191 -1.1285427   0.76804734]\n",
      " [-1.01909717 -1.05970873 -0.47786252]\n",
      " [-0.72688858 -1.0000759  -0.99954194]\n",
      " [-1.0000819  -0.75940958  0.03030558]\n",
      " [-0.99957828 -1.07645757 -0.44947688]\n",
      " [ 1.10037424  1.1294864   0.11662767]]\n",
      "predict_result:\n",
      " [0. 1. 2. 0. 0. 2. 0. 1. 2. 2. 1. 2. 1. 0. 1. 2. 2. 1. 2. 1. 0. 0. 0. 2.\n",
      " 0. 1. 2. 1. 0. 0. 1. 0. 2. 1. 2. 2. 1. 2. 2. 1. 0. 1. 0. 1. 1. 0. 1. 0.\n",
      " 0. 2. 1. 1. 0. 0. 1. 0. 1. 0. 2. 1. 0. 2. 0. 1. 0. 1. 1. 0. 0. 1. 0. 1.\n",
      " 1. 0. 2. 1. 1. 1. 1. 0. 0. 1. 1. 2. 1. 2. 2. 1. 2. 0.]\n"
     ]
    }
   ],
   "source": [
    "#可以查看一下内部决策函数，返回的是样本到分类超平面的距离\n",
    "#查看决策函数  \n",
    "print('train_decision_function:\\n',classifier.decision_function(train_data)) # (90,3)  \n",
    "print('predict_result:\\n',classifier.predict(train_data))"
   ]
  },
  {
   "cell_type": "code",
   "execution_count": 17,
   "metadata": {},
   "outputs": [],
   "source": [
    "#5.绘制图形  \n",
    "#确定坐标轴范围  \n",
    "#鸢尾花SVM二特征分类\n",
    "x1_min, x1_max=x[:,0].min(), x[:,0].max() #第0维特征的范围  \n",
    "x2_min, x2_max=x[:,1].min(), x[:,1].max() #第1维特征的范围  \n",
    "x1,x2=np.mgrid[x1_min:x1_max:200j, x2_min:x2_max:200j ] #生成网络采样点  \n",
    "grid_test=np.stack((x1.flat,x2.flat) ,axis=1) #测试点  \n",
    "#指定默认字体  \n",
    "matplotlib.rcParams['font.sans-serif']=['SimHei']  \n",
    "#设置颜色  \n",
    "cm_light=matplotlib.colors.ListedColormap(['#A0FFA0', '#FFA0A0', '#A0A0FF'])  \n",
    "cm_dark=matplotlib.colors.ListedColormap(['g','r','b'] )  \n",
    "  \n",
    "grid_hat = classifier.predict(grid_test)       # 预测分类值  \n",
    "grid_hat = grid_hat.reshape(x1.shape)  # 使之与输入的形状相同 "
   ]
  },
  {
   "cell_type": "code",
   "execution_count": 18,
   "metadata": {},
   "outputs": [
    {
     "name": "stderr",
     "output_type": "stream",
     "text": [
      "D:\\lqs_anzhuang\\Anaconda3\\lib\\site-packages\\ipykernel_launcher.py:1: MatplotlibDeprecationWarning: shading='flat' when X and Y have the same dimensions as C is deprecated since 3.3.  Either specify the corners of the quadrilaterals with X and Y, or pass shading='auto', 'nearest' or 'gouraud', or set rcParams['pcolor.shading'].  This will become an error two minor releases later.\n",
      "  \"\"\"Entry point for launching an IPython kernel.\n"
     ]
    },
    {
     "data": {
      "text/plain": [
       "<matplotlib.collections.QuadMesh at 0x20b1049f148>"
      ]
     },
     "execution_count": 18,
     "metadata": {},
     "output_type": "execute_result"
    },
    {
     "data": {
      "image/png": "[encoded data removed]",
      "text/plain": [
       "<Figure size 432x288 with 1 Axes>"
      ]
     },
     "metadata": {
      "needs_background": "light"
     },
     "output_type": "display_data"
    }
   ],
   "source": [
    "plt.pcolormesh(x1, x2, grid_hat, cmap=cm_light)     # 预测值的显示 "
   ]
  },
  {
   "cell_type": "code",
   "execution_count": 19,
   "metadata": {},
   "outputs": [
    {
     "name": "stderr",
     "output_type": "stream",
     "text": [
      "D:\\lqs_anzhuang\\Anaconda3\\lib\\site-packages\\ipykernel_launcher.py:2: MatplotlibDeprecationWarning: shading='flat' when X and Y have the same dimensions as C is deprecated since 3.3.  Either specify the corners of the quadrilaterals with X and Y, or pass shading='auto', 'nearest' or 'gouraud', or set rcParams['pcolor.shading'].  This will become an error two minor releases later.\n",
      "  \n"
     ]
    },
    {
     "data": {
      "image/png": "[encoded data removed]",
      "text/plain": [
       "<Figure size 432x288 with 1 Axes>"
      ]
     },
     "metadata": {
      "needs_background": "light"
     },
     "output_type": "display_data"
    }
   ],
   "source": [
    "#所有样本的分类结果\n",
    "plt.pcolormesh(x1, x2, grid_hat, cmap=cm_light)     # 预测值的显示  \n",
    "plt.scatter(x[:, 0], x[:, 1], c=y[:,0], s=30,cmap=cm_dark)  # 样本  \n",
    "#plt.scatter(test_data[:,0],test_data[:,1], c=test_label[:,0],s=30,edgecolors='k', zorder=2,cmap=cm_dark) #圈中测试集样本点  \n",
    "plt.xlabel('花萼长度', fontsize=13)  \n",
    "plt.ylabel('花萼宽度', fontsize=13)  \n",
    "plt.xlim(x1_min,x1_max)  \n",
    "plt.ylim(x2_min,x2_max)  \n",
    "plt.title('鸢尾花SVM二特征分类')  \n",
    "plt.show() "
   ]
  },
  {
   "cell_type": "code",
   "execution_count": 19,
   "metadata": {},
   "outputs": [
    {
     "name": "stderr",
     "output_type": "stream",
     "text": [
      "D:\\lqs_anzhuang\\Anaconda3\\lib\\site-packages\\ipykernel_launcher.py:1: MatplotlibDeprecationWarning: shading='flat' when X and Y have the same dimensions as C is deprecated since 3.3.  Either specify the corners of the quadrilaterals with X and Y, or pass shading='auto', 'nearest' or 'gouraud', or set rcParams['pcolor.shading'].  This will become an error two minor releases later.\n",
      "  \"\"\"Entry point for launching an IPython kernel.\n"
     ]
    },
    {
     "data": {
      "image/png": "[encoded data removed]",
      "text/plain": [
       "<Figure size 432x288 with 1 Axes>"
      ]
     },
     "metadata": {
      "needs_background": "light"
     },
     "output_type": "display_data"
    }
   ],
   "source": [
    "\n",
    "#将测试点从中圈出\n",
    "plt.pcolormesh(x1, x2, grid_hat, cmap=cm_light)     # 预测值的显示  \n",
    "plt.scatter(x[:, 0], x[:, 1], c=y[:,0], s=30,cmap=cm_dark)  # 样本  \n",
    "plt.scatter(test_data[:,0],test_data[:,1], c=test_label[:,0],s=30,edgecolors='k', zorder=2,cmap=cm_dark) #圈中测试集样本点  \n",
    "plt.xlabel('花萼长度', fontsize=13)  \n",
    "plt.ylabel('花萼宽度', fontsize=13)  \n",
    "plt.xlim(x1_min,x1_max)  \n",
    "plt.ylim(x2_min,x2_max)  \n",
    "plt.title('鸢尾花SVM二特征分类')  \n",
    "plt.show() "
   ]
  },
  {
   "cell_type": "code",
   "execution_count": null,
   "metadata": {},
   "outputs": [],
   "source": []
  }
 ],
 "metadata": {
  "kernelspec": {
   "display_name": "Python 3",
   "language": "python",
   "name": "python3"
  },
  "language_info": {
   "codemirror_mode": {
    "name": "ipython",
    "version": 3
   },
   "file_extension": ".py",
   "mimetype": "text/x-python",
   "name": "python",
   "nbconvert_exporter": "python",
   "pygments_lexer": "ipython3",
   "version": "3.7.4"
  }
 },
 "nbformat": 4,
 "nbformat_minor": 4
}
